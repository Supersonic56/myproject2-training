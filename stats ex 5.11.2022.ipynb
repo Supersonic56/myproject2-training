{
 "cells": [
  {
   "cell_type": "code",
   "execution_count": 1,
   "metadata": {},
   "outputs": [
    {
     "name": "stdout",
     "output_type": "stream",
     "text": [
      "The average of list values is : 14.916666666666666\n"
     ]
    }
   ],
   "source": [
    "import statistics\n",
    "li = [1,3,5,7,9,11,14,17,22,26,29,35]\n",
    "print (\"The average of list values is : \",end=\"\")\n",
    "print (statistics.mean(li))"
   ]
  },
  {
   "cell_type": "code",
   "execution_count": 2,
   "metadata": {},
   "outputs": [
    {
     "data": {
      "text/plain": [
       "int"
      ]
     },
     "execution_count": 2,
     "metadata": {},
     "output_type": "execute_result"
    }
   ],
   "source": [
    "type(1)"
   ]
  },
  {
   "cell_type": "code",
   "execution_count": 3,
   "metadata": {},
   "outputs": [
    {
     "data": {
      "text/plain": [
       "bool"
      ]
     },
     "execution_count": 3,
     "metadata": {},
     "output_type": "execute_result"
    }
   ],
   "source": [
    "type(True)"
   ]
  },
  {
   "cell_type": "code",
   "execution_count": 4,
   "metadata": {},
   "outputs": [
    {
     "name": "stdout",
     "output_type": "stream",
     "text": [
      "Median of data-set 1 is 5\n",
      "Median of data-set 2 is 5.9\n",
      "Median of data-set 3 is 2\n",
      "Median of data-set 4 is -5\n",
      "Median of data-set 5 is 0.0\n"
     ]
    }
   ],
   "source": [
    "from statistics import median\n",
    "from fractions import Fraction as fr\n",
    "data1 = (2, 3, 4, 5, 7, 9, 11)\n",
    "data2 = (2.4, 5.1, 6.7, 8.9)\n",
    "data3 = (fr(1, 2), fr(44, 12),\n",
    "\t\tfr(10, 3), fr(2, 3))\n",
    "data4 = (-5, -1, -12, -19, -3)\n",
    "data5 = (-1, -2, -3, -4, 4, 3, 2, 1)\n",
    "\n",
    "print(\"Median of data-set 1 is % s\" % (median(data1)))\n",
    "print(\"Median of data-set 2 is % s\" % (median(data2)))\n",
    "print(\"Median of data-set 3 is % s\" % (median(data3)))\n",
    "print(\"Median of data-set 4 is % s\" % (median(data4)))\n",
    "print(\"Median of data-set 5 is % s\" % (median(data5)))\n"
   ]
  },
  {
   "cell_type": "code",
   "execution_count": 5,
   "metadata": {},
   "outputs": [
    {
     "data": {
      "text/plain": [
       "\"I'm abc\""
      ]
     },
     "execution_count": 5,
     "metadata": {},
     "output_type": "execute_result"
    }
   ],
   "source": [
    "'I\\'m abc'"
   ]
  },
  {
   "cell_type": "code",
   "execution_count": 6,
   "metadata": {},
   "outputs": [
    {
     "data": {
      "text/plain": [
       "'hw'"
      ]
     },
     "execution_count": 6,
     "metadata": {},
     "output_type": "execute_result"
    }
   ],
   "source": [
    "f'hw'"
   ]
  },
  {
   "cell_type": "code",
   "execution_count": 7,
   "metadata": {},
   "outputs": [
    {
     "name": "stdout",
     "output_type": "stream",
     "text": [
      "Median of the set is 3.5\n",
      "High Median of the set is 4 \n"
     ]
    }
   ],
   "source": [
    "import statistics\n",
    "set1 = [1, 3, 3, 4, 5, 7]\n",
    "print(\"Median of the set is %s\"\n",
    "\t% (statistics.median(set1)))\n",
    "print(\"High Median of the set is %s \"\n",
    "\t% (statistics.median_high(set1)))\n"
   ]
  },
  {
   "cell_type": "code",
   "execution_count": 8,
   "metadata": {},
   "outputs": [
    {
     "name": "stdout",
     "output_type": "stream",
     "text": [
      "Maximum = 5, Minimum = 1 and Range = 4\n"
     ]
    }
   ],
   "source": [
    "arr = [1, 2, 3, 4, 5]\n",
    "Maximum = max(arr)\n",
    "Minimum = min(arr)\n",
    "Range = Maximum-Minimum\t\n",
    "print(\"Maximum = {}, Minimum = {} and Range = {}\".format(\n",
    "\tMaximum, Minimum, Range))"
   ]
  },
  {
   "cell_type": "code",
   "execution_count": null,
   "metadata": {},
   "outputs": [],
   "source": []
  }
 ],
 "metadata": {
  "kernelspec": {
   "display_name": "Python 3",
   "language": "python",
   "name": "python3"
  },
  "language_info": {
   "codemirror_mode": {
    "name": "ipython",
    "version": 3
   },
   "file_extension": ".py",
   "mimetype": "text/x-python",
   "name": "python",
   "nbconvert_exporter": "python",
   "pygments_lexer": "ipython3",
   "version": "3.8.5"
  }
 },
 "nbformat": 4,
 "nbformat_minor": 4
}
